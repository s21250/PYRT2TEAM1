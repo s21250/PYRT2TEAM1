{
 "cells": [
  {
   "cell_type": "markdown",
   "metadata": {},
   "source": [
    "### Подготовка данных. Надо запустить, предполагая, что файлы по домам лежат в папке\n",
    "daily_dataset в одной папке с этой книгой.\n",
    "Кроме того, нужно наличие файла 'building.py'"
   ]
  },
  {
   "cell_type": "markdown",
   "metadata": {},
   "source": [
    "# ВНИМАНИЕ!\n",
    "Источник всех изначальных файлов тут: https://www.kaggle.com/jeanmidev/smart-meters-in-london\n",
    "Для корректной работы в корне со всеми файлами проекта должны быть:\n",
    "1. weather_daily_darksky.csv\n",
    "2. informations_households.csv\n",
    "3. acorn_details.csv\n",
    "\n",
    "Кроме того, в этой же директории должна быть папка \"daily_dataset\" с файлами домов. Количество файлов может быть любым и для корректной работы (в случае, если вы поменяли количество или сами файлы) код для подготовки лучше запустить заново!"
   ]
  },
  {
   "cell_type": "code",
   "execution_count": 1,
   "metadata": {},
   "outputs": [
    {
     "name": "stdout",
     "output_type": "stream",
     "text": [
      "<class 'pandas.core.frame.DataFrame'>\n",
      "MultiIndex: 103112 entries, (2011-12-03, ACORN-A, block_0) to (2014-02-28, ACORN-Q, block_99)\n",
      "Columns: 7 entries, energy_median to energy_min\n",
      "dtypes: float64(6), int64(1)\n",
      "memory usage: 5.9+ MB\n",
      "Well done!\n"
     ]
    }
   ],
   "source": [
    "from building import building as bd\n",
    "import pandas as pd\n",
    "\n",
    "t=bd.directory_listing()\n",
    "result_df=bd(t[0]).df\n",
    "result_df=result_df.groupby(['day','Acorn', 'file']).sum()\n",
    "for i in range(1,len(t)):\n",
    "    df=bd(t[i]).df\n",
    "    df=df.groupby(['day','Acorn', 'file']).sum()\n",
    "    #print(df.info(verbose = False, null_counts = False))\n",
    "    result_df=result_df.append(df)\n",
    "result_df.reset_index()\n",
    "result_df.to_csv('acorn_stat.csv')\n",
    "result_df.info(verbose = False, null_counts = False)\n",
    "print('Well done!')"
   ]
  },
  {
   "cell_type": "code",
   "execution_count": null,
   "metadata": {},
   "outputs": [],
   "source": []
  }
 ],
 "metadata": {
  "kernelspec": {
   "display_name": "Python 3",
   "language": "python",
   "name": "python3"
  },
  "language_info": {
   "codemirror_mode": {
    "name": "ipython",
    "version": 3
   },
   "file_extension": ".py",
   "mimetype": "text/x-python",
   "name": "python",
   "nbconvert_exporter": "python",
   "pygments_lexer": "ipython3",
   "version": "3.7.4"
  }
 },
 "nbformat": 4,
 "nbformat_minor": 2
}
